{
 "cells": [
  {
   "attachments": {},
   "cell_type": "markdown",
   "metadata": {},
   "source": [
    "# Demo Usage of `py_aws_vault_auth`"
   ]
  },
  {
   "cell_type": "code",
   "execution_count": null,
   "metadata": {},
   "outputs": [],
   "source": [
    "import py_aws_vault_auth"
   ]
  },
  {
   "cell_type": "code",
   "execution_count": null,
   "metadata": {},
   "outputs": [],
   "source": [
    "import boto3\n",
    "boto_auth = py_aws_vault_auth.authenticate(\"DataScience\", return_as=\"boto3\")\n",
    "c = boto3.client(\"s3\", **boto_auth)\n",
    "c.list_objects(Bucket=\"my-bucket\")\n"
   ]
  },
  {
   "cell_type": "code",
   "execution_count": null,
   "metadata": {},
   "outputs": [],
   "source": [
    "import s3fs\n",
    "s3fs_auth = py_aws_vault_auth.authenticate(\"DataScience\", return_as=\"s3fs\")\n",
    "fs = s3fs.S3FileSystem(**s3fs_auth)\n",
    "fs.ls(\"s3://my-bucket/\")"
   ]
  },
  {
   "cell_type": "code",
   "execution_count": null,
   "metadata": {},
   "outputs": [],
   "source": [
    "import pandas\n",
    "s3fs_auth = py_aws_vault_auth.authenticate(\"DataScience\", return_as=\"s3fs\")\n",
    "pandas.read_csv(\"s3://my-bucket/my_file\",\n",
    "                storage_options=s3fs_auth\n",
    ")"
   ]
  },
  {
   "cell_type": "code",
   "execution_count": null,
   "metadata": {},
   "outputs": [],
   "source": [
    "import os, subprocess\n",
    "environ_auth = py_aws_vault_auth.authenticate(\"DataScience\", return_as=\"environ\")\n",
    "subprocess.call(\n",
    "    [\"aws\", \"s3\", \"ls\", \"my-bucket\"],\n",
    "    env=os.environ | environ_auth  # for python >= 3.9\n",
    "    # env={**os.environ, **environ_auth}  # for python<3.9\n",
    ")"
   ]
  },
  {
   "cell_type": "code",
   "execution_count": null,
   "metadata": {},
   "outputs": [],
   "source": []
  }
 ],
 "metadata": {
  "kernelspec": {
   "display_name": "wellington_feature_extract",
   "language": "python",
   "name": "python3"
  },
  "language_info": {
   "codemirror_mode": {
    "name": "ipython",
    "version": 3
   },
   "file_extension": ".py",
   "mimetype": "text/x-python",
   "name": "python",
   "nbconvert_exporter": "python",
   "pygments_lexer": "ipython3",
   "version": "3.11.0"
  },
  "orig_nbformat": 4,
  "vscode": {
   "interpreter": {
    "hash": "b0f326524b97b8aed74cee1d3c79182c38b905be500b5f91c1a9608638726632"
   }
  }
 },
 "nbformat": 4,
 "nbformat_minor": 2
}
