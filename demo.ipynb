{
 "cells": [
  {
   "attachments": {},
   "cell_type": "markdown",
   "metadata": {},
   "source": [
    "# Demo Usage of `py_aws_vault_auth`\n",
    "\n",
    "install and configure `aws-vault` from https://github.com/99designs/aws-vault and this package with"
   ]
  },
  {
   "cell_type": "code",
   "execution_count": null,
   "metadata": {},
   "outputs": [],
   "source": [
    "!pip install -U git+https://github.com/achimgaedke/py-aws-vault-auth.git"
   ]
  },
  {
   "cell_type": "code",
   "execution_count": null,
   "metadata": {},
   "outputs": [],
   "source": [
    "import py_aws_vault_auth"
   ]
  },
  {
   "attachments": {},
   "cell_type": "markdown",
   "metadata": {},
   "source": [
    "## `boto3` example"
   ]
  },
  {
   "cell_type": "code",
   "execution_count": null,
   "metadata": {},
   "outputs": [],
   "source": [
    "import boto3\n",
    "boto_auth = py_aws_vault_auth.authenticate(\"DataScience\", return_as=\"boto3\")\n",
    "c = boto3.client(\"s3\", **boto_auth)\n",
    "c.list_objects(Bucket=\"my-bucket\")\n"
   ]
  },
  {
   "attachments": {},
   "cell_type": "markdown",
   "metadata": {},
   "source": [
    "## `s3fs` example"
   ]
  },
  {
   "cell_type": "code",
   "execution_count": null,
   "metadata": {},
   "outputs": [],
   "source": [
    "import s3fs\n",
    "s3fs_auth = py_aws_vault_auth.authenticate(\"DataScience\", return_as=\"s3fs\")\n",
    "fs = s3fs.S3FileSystem(**s3fs_auth)\n",
    "fs.ls(\"s3://my-bucket/\")"
   ]
  },
  {
   "attachments": {},
   "cell_type": "markdown",
   "metadata": {},
   "source": [
    "## `pandas` example"
   ]
  },
  {
   "cell_type": "code",
   "execution_count": null,
   "metadata": {},
   "outputs": [],
   "source": [
    "import pandas\n",
    "s3fs_auth = py_aws_vault_auth.authenticate(\"DataScience\", return_as=\"s3fs\")\n",
    "pandas.read_csv(\"s3://my-bucket/my_file\",\n",
    "                storage_options=s3fs_auth\n",
    ")"
   ]
  },
  {
   "attachments": {},
   "cell_type": "markdown",
   "metadata": {},
   "source": [
    "## `aws` CLI tool / environment variables example"
   ]
  },
  {
   "cell_type": "code",
   "execution_count": null,
   "metadata": {},
   "outputs": [],
   "source": [
    "import os, subprocess\n",
    "environ_auth = py_aws_vault_auth.authenticate(\"DataScience\", return_as=\"environ\")\n",
    "subprocess.call(\n",
    "    [\"aws\", \"s3\", \"ls\", \"my-bucket\"],\n",
    "    env=os.environ | environ_auth  # for python >= 3.9\n",
    "    # env={**os.environ, **environ_auth}  # for python<3.9\n",
    ")"
   ]
  }
 ],
 "metadata": {
  "kernelspec": {
   "display_name": "wellington_feature_extract",
   "language": "python",
   "name": "python3"
  },
  "language_info": {
   "codemirror_mode": {
    "name": "ipython",
    "version": 3
   },
   "file_extension": ".py",
   "mimetype": "text/x-python",
   "name": "python",
   "nbconvert_exporter": "python",
   "pygments_lexer": "ipython3",
   "version": "3.11.0"
  },
  "orig_nbformat": 4,
  "vscode": {
   "interpreter": {
    "hash": "b0f326524b97b8aed74cee1d3c79182c38b905be500b5f91c1a9608638726632"
   }
  }
 },
 "nbformat": 4,
 "nbformat_minor": 2
}
